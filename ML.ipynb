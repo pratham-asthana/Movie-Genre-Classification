{
 "cells": [
  {
   "cell_type": "code",
   "execution_count": 2,
   "metadata": {},
   "outputs": [],
   "source": [
    "import pandas as pd\n",
    "import numpy as np \n",
    "import matplotlib.pyplot as plt\n",
    "import seaborn as sn"
   ]
  },
  {
   "cell_type": "code",
   "execution_count": 3,
   "metadata": {},
   "outputs": [],
   "source": [
    "training_data_file = \"train_data.txt\"\n",
    "validation_data_file = \"test_data_solution.txt\"\n",
    "test_data_file = \"test_data.txt\""
   ]
  },
  {
   "cell_type": "code",
   "execution_count": 4,
   "metadata": {},
   "outputs": [
    {
     "name": "stderr",
     "output_type": "stream",
     "text": [
      "C:\\Users\\prath\\AppData\\Local\\Temp\\ipykernel_20476\\1933649389.py:1: ParserWarning: Falling back to the 'python' engine because the 'c' engine does not support regex separators (separators > 1 char and different from '\\s+' are interpreted as regex); you can avoid this warning by specifying engine='python'.\n",
      "  train = pd.read_csv(training_data_file, delimiter=\" ::: \", names=[\"S.no\", \"Movie\", \"Genre\", \"Description\"])\n",
      "C:\\Users\\prath\\AppData\\Local\\Temp\\ipykernel_20476\\1933649389.py:2: ParserWarning: Falling back to the 'python' engine because the 'c' engine does not support regex separators (separators > 1 char and different from '\\s+' are interpreted as regex); you can avoid this warning by specifying engine='python'.\n",
      "  test = pd.read_csv(test_data_file, delimiter=\" ::: \", names=[\"S.no\", \"Movie\", \"Description\"])\n",
      "C:\\Users\\prath\\AppData\\Local\\Temp\\ipykernel_20476\\1933649389.py:3: ParserWarning: Falling back to the 'python' engine because the 'c' engine does not support regex separators (separators > 1 char and different from '\\s+' are interpreted as regex); you can avoid this warning by specifying engine='python'.\n",
      "  validation = pd.read_csv(validation_data_file, delimiter=\" ::: \", names=[\"S.no\", \"Movie\", \"Genre\", \"Description\"])\n"
     ]
    }
   ],
   "source": [
    "train = pd.read_csv(training_data_file, delimiter=\" ::: \", names=[\"S.no\", \"Movie\", \"Genre\", \"Description\"])\n",
    "test = pd.read_csv(test_data_file, delimiter=\" ::: \", names=[\"S.no\", \"Movie\", \"Description\"])\n",
    "validation = pd.read_csv(validation_data_file, delimiter=\" ::: \", names=[\"S.no\", \"Movie\", \"Genre\", \"Description\"])\n",
    "combined = pd.concat([train, validation])\n"
   ]
  },
  {
   "cell_type": "code",
   "execution_count": 5,
   "metadata": {},
   "outputs": [
    {
     "data": {
      "text/html": [
       "<div>\n",
       "<style scoped>\n",
       "    .dataframe tbody tr th:only-of-type {\n",
       "        vertical-align: middle;\n",
       "    }\n",
       "\n",
       "    .dataframe tbody tr th {\n",
       "        vertical-align: top;\n",
       "    }\n",
       "\n",
       "    .dataframe thead th {\n",
       "        text-align: right;\n",
       "    }\n",
       "</style>\n",
       "<table border=\"1\" class=\"dataframe\">\n",
       "  <thead>\n",
       "    <tr style=\"text-align: right;\">\n",
       "      <th></th>\n",
       "      <th>S.no</th>\n",
       "      <th>Movie</th>\n",
       "      <th>Genre</th>\n",
       "      <th>Description</th>\n",
       "    </tr>\n",
       "  </thead>\n",
       "  <tbody>\n",
       "    <tr>\n",
       "      <th>0</th>\n",
       "      <td>1</td>\n",
       "      <td>Oscar et la dame rose (2009)</td>\n",
       "      <td>drama</td>\n",
       "      <td>Listening in to a conversation between his doc...</td>\n",
       "    </tr>\n",
       "    <tr>\n",
       "      <th>1</th>\n",
       "      <td>2</td>\n",
       "      <td>Cupid (1997)</td>\n",
       "      <td>thriller</td>\n",
       "      <td>A brother and sister with a past incestuous re...</td>\n",
       "    </tr>\n",
       "    <tr>\n",
       "      <th>2</th>\n",
       "      <td>3</td>\n",
       "      <td>Young, Wild and Wonderful (1980)</td>\n",
       "      <td>adult</td>\n",
       "      <td>As the bus empties the students for their fiel...</td>\n",
       "    </tr>\n",
       "    <tr>\n",
       "      <th>3</th>\n",
       "      <td>4</td>\n",
       "      <td>The Secret Sin (1915)</td>\n",
       "      <td>drama</td>\n",
       "      <td>To help their unemployed father make ends meet...</td>\n",
       "    </tr>\n",
       "    <tr>\n",
       "      <th>4</th>\n",
       "      <td>5</td>\n",
       "      <td>The Unrecovered (2007)</td>\n",
       "      <td>drama</td>\n",
       "      <td>The film's title refers not only to the un-rec...</td>\n",
       "    </tr>\n",
       "  </tbody>\n",
       "</table>\n",
       "</div>"
      ],
      "text/plain": [
       "   S.no                             Movie     Genre  \\\n",
       "0     1      Oscar et la dame rose (2009)     drama   \n",
       "1     2                      Cupid (1997)  thriller   \n",
       "2     3  Young, Wild and Wonderful (1980)     adult   \n",
       "3     4             The Secret Sin (1915)     drama   \n",
       "4     5            The Unrecovered (2007)     drama   \n",
       "\n",
       "                                         Description  \n",
       "0  Listening in to a conversation between his doc...  \n",
       "1  A brother and sister with a past incestuous re...  \n",
       "2  As the bus empties the students for their fiel...  \n",
       "3  To help their unemployed father make ends meet...  \n",
       "4  The film's title refers not only to the un-rec...  "
      ]
     },
     "execution_count": 5,
     "metadata": {},
     "output_type": "execute_result"
    }
   ],
   "source": [
    "train.head()"
   ]
  },
  {
   "cell_type": "code",
   "execution_count": 6,
   "metadata": {},
   "outputs": [
    {
     "data": {
      "text/plain": [
       "(54214, 4)"
      ]
     },
     "execution_count": 6,
     "metadata": {},
     "output_type": "execute_result"
    }
   ],
   "source": [
    "train.shape"
   ]
  },
  {
   "cell_type": "code",
   "execution_count": 7,
   "metadata": {},
   "outputs": [
    {
     "data": {
      "text/html": [
       "<div>\n",
       "<style scoped>\n",
       "    .dataframe tbody tr th:only-of-type {\n",
       "        vertical-align: middle;\n",
       "    }\n",
       "\n",
       "    .dataframe tbody tr th {\n",
       "        vertical-align: top;\n",
       "    }\n",
       "\n",
       "    .dataframe thead th {\n",
       "        text-align: right;\n",
       "    }\n",
       "</style>\n",
       "<table border=\"1\" class=\"dataframe\">\n",
       "  <thead>\n",
       "    <tr style=\"text-align: right;\">\n",
       "      <th></th>\n",
       "      <th>S.no</th>\n",
       "      <th>Movie</th>\n",
       "      <th>Genre</th>\n",
       "      <th>Description</th>\n",
       "    </tr>\n",
       "  </thead>\n",
       "  <tbody>\n",
       "    <tr>\n",
       "      <th>0</th>\n",
       "      <td>1</td>\n",
       "      <td>Oscar et la dame rose (2009)</td>\n",
       "      <td>drama</td>\n",
       "      <td>Listening in to a conversation between his doc...</td>\n",
       "    </tr>\n",
       "    <tr>\n",
       "      <th>1</th>\n",
       "      <td>2</td>\n",
       "      <td>Cupid (1997)</td>\n",
       "      <td>thriller</td>\n",
       "      <td>A brother and sister with a past incestuous re...</td>\n",
       "    </tr>\n",
       "    <tr>\n",
       "      <th>2</th>\n",
       "      <td>3</td>\n",
       "      <td>Young, Wild and Wonderful (1980)</td>\n",
       "      <td>adult</td>\n",
       "      <td>As the bus empties the students for their fiel...</td>\n",
       "    </tr>\n",
       "    <tr>\n",
       "      <th>3</th>\n",
       "      <td>4</td>\n",
       "      <td>The Secret Sin (1915)</td>\n",
       "      <td>drama</td>\n",
       "      <td>To help their unemployed father make ends meet...</td>\n",
       "    </tr>\n",
       "    <tr>\n",
       "      <th>4</th>\n",
       "      <td>5</td>\n",
       "      <td>The Unrecovered (2007)</td>\n",
       "      <td>drama</td>\n",
       "      <td>The film's title refers not only to the un-rec...</td>\n",
       "    </tr>\n",
       "  </tbody>\n",
       "</table>\n",
       "</div>"
      ],
      "text/plain": [
       "   S.no                             Movie     Genre  \\\n",
       "0     1      Oscar et la dame rose (2009)     drama   \n",
       "1     2                      Cupid (1997)  thriller   \n",
       "2     3  Young, Wild and Wonderful (1980)     adult   \n",
       "3     4             The Secret Sin (1915)     drama   \n",
       "4     5            The Unrecovered (2007)     drama   \n",
       "\n",
       "                                         Description  \n",
       "0  Listening in to a conversation between his doc...  \n",
       "1  A brother and sister with a past incestuous re...  \n",
       "2  As the bus empties the students for their fiel...  \n",
       "3  To help their unemployed father make ends meet...  \n",
       "4  The film's title refers not only to the un-rec...  "
      ]
     },
     "execution_count": 7,
     "metadata": {},
     "output_type": "execute_result"
    }
   ],
   "source": [
    "combined.head()"
   ]
  },
  {
   "cell_type": "code",
   "execution_count": 8,
   "metadata": {},
   "outputs": [
    {
     "data": {
      "text/plain": [
       "(108414, 4)"
      ]
     },
     "execution_count": 8,
     "metadata": {},
     "output_type": "execute_result"
    }
   ],
   "source": [
    "combined.shape"
   ]
  },
  {
   "cell_type": "code",
   "execution_count": 9,
   "metadata": {},
   "outputs": [],
   "source": [
    "from sklearn.model_selection import train_test_split\n",
    "from sklearn.feature_extraction.text import TfidfVectorizer"
   ]
  },
  {
   "cell_type": "code",
   "execution_count": 10,
   "metadata": {},
   "outputs": [
    {
     "data": {
      "text/plain": [
       "<108414x5000 sparse matrix of type '<class 'numpy.float64'>'\n",
       "\twith 3660222 stored elements in Compressed Sparse Row format>"
      ]
     },
     "execution_count": 10,
     "metadata": {},
     "output_type": "execute_result"
    }
   ],
   "source": [
    "tfidf_vectorizer = TfidfVectorizer(max_features=5000, stop_words='english')\n",
    "x = tfidf_vectorizer.fit_transform(combined['Description'])\n",
    "x"
   ]
  },
  {
   "cell_type": "code",
   "execution_count": 11,
   "metadata": {},
   "outputs": [
    {
     "data": {
      "text/plain": [
       "0           drama\n",
       "1        thriller\n",
       "2           adult\n",
       "3           drama\n",
       "4           drama\n",
       "           ...   \n",
       "54195      horror\n",
       "54196     western\n",
       "54197       adult\n",
       "54198       drama\n",
       "54199       drama\n",
       "Name: Genre, Length: 108414, dtype: object"
      ]
     },
     "execution_count": 11,
     "metadata": {},
     "output_type": "execute_result"
    }
   ],
   "source": [
    "y = combined['Genre']\n",
    "y"
   ]
  },
  {
   "cell_type": "code",
   "execution_count": 12,
   "metadata": {},
   "outputs": [],
   "source": [
    "x_train,x_test,y_train,y_test = train_test_split(x,y,test_size=0.2,random_state=42)"
   ]
  },
  {
   "cell_type": "code",
   "execution_count": 13,
   "metadata": {},
   "outputs": [
    {
     "data": {
      "text/plain": [
       "<86731x5000 sparse matrix of type '<class 'numpy.float64'>'\n",
       "\twith 2924485 stored elements in Compressed Sparse Row format>"
      ]
     },
     "execution_count": 13,
     "metadata": {},
     "output_type": "execute_result"
    }
   ],
   "source": [
    "x_train"
   ]
  },
  {
   "cell_type": "code",
   "execution_count": 14,
   "metadata": {},
   "outputs": [
    {
     "data": {
      "text/plain": [
       "22489    documentary\n",
       "45345          drama\n",
       "47747    documentary\n",
       "6679           drama\n",
       "26395        western\n",
       "Name: Genre, dtype: object"
      ]
     },
     "execution_count": 14,
     "metadata": {},
     "output_type": "execute_result"
    }
   ],
   "source": [
    "y_train.head()"
   ]
  },
  {
   "cell_type": "code",
   "execution_count": 15,
   "metadata": {},
   "outputs": [
    {
     "data": {
      "text/plain": [
       "2541           drama\n",
       "34097    documentary\n",
       "50681    documentary\n",
       "48932          short\n",
       "39301    documentary\n",
       "Name: Genre, dtype: object"
      ]
     },
     "execution_count": 15,
     "metadata": {},
     "output_type": "execute_result"
    }
   ],
   "source": [
    "y_test.head()"
   ]
  },
  {
   "cell_type": "code",
   "execution_count": 29,
   "metadata": {},
   "outputs": [
    {
     "name": "stderr",
     "output_type": "stream",
     "text": [
      "c:\\Users\\prath\\AppData\\Local\\Programs\\Python\\Python312\\Lib\\site-packages\\sklearn\\linear_model\\_logistic.py:469: ConvergenceWarning: lbfgs failed to converge (status=1):\n",
      "STOP: TOTAL NO. of ITERATIONS REACHED LIMIT.\n",
      "\n",
      "Increase the number of iterations (max_iter) or scale the data as shown in:\n",
      "    https://scikit-learn.org/stable/modules/preprocessing.html\n",
      "Please also refer to the documentation for alternative solver options:\n",
      "    https://scikit-learn.org/stable/modules/linear_model.html#logistic-regression\n",
      "  n_iter_i = _check_optimize_result(\n",
      "c:\\Users\\prath\\AppData\\Local\\Programs\\Python\\Python312\\Lib\\site-packages\\sklearn\\metrics\\_classification.py:1509: UndefinedMetricWarning: Precision is ill-defined and being set to 0.0 in labels with no predicted samples. Use `zero_division` parameter to control this behavior.\n",
      "  _warn_prf(average, modifier, f\"{metric.capitalize()} is\", len(result))\n"
     ]
    },
    {
     "name": "stdout",
     "output_type": "stream",
     "text": [
      "Logistic Regression Accuracy: 59.456717243923805\n",
      "              precision    recall  f1-score   support\n",
      "\n",
      "      action       0.49      0.33      0.40       526\n",
      "       adult       0.58      0.29      0.39       228\n",
      "   adventure       0.57      0.22      0.32       304\n",
      "   animation       0.54      0.12      0.20       211\n",
      "   biography       0.00      0.00      0.00       103\n",
      "      comedy       0.54      0.60      0.57      2988\n",
      "       crime       0.31      0.06      0.10       223\n",
      " documentary       0.69      0.83      0.75      5185\n",
      "       drama       0.56      0.77      0.65      5550\n",
      "      family       0.43      0.12      0.19       288\n",
      "     fantasy       0.50      0.07      0.12       147\n",
      "   game-show       0.70      0.45      0.55        73\n",
      "     history       0.00      0.00      0.00       116\n",
      "      horror       0.68      0.63      0.65       883\n",
      "       music       0.63      0.46      0.53       300\n",
      "     musical       0.50      0.06      0.11       114\n",
      "     mystery       0.29      0.04      0.08       114\n",
      "        news       0.38      0.05      0.09        61\n",
      "  reality-tv       0.53      0.24      0.33       379\n",
      "     romance       0.14      0.01      0.02       267\n",
      "      sci-fi       0.52      0.34      0.41       240\n",
      "       short       0.46      0.37      0.41      1931\n",
      "       sport       0.55      0.33      0.41       162\n",
      "   talk-show       0.49      0.20      0.28       152\n",
      "    thriller       0.41      0.16      0.23       649\n",
      "         war       1.00      0.06      0.12        47\n",
      "     western       0.94      0.79      0.86       442\n",
      "\n",
      "    accuracy                           0.59     21683\n",
      "   macro avg       0.50      0.28      0.32     21683\n",
      "weighted avg       0.57      0.59      0.56     21683\n",
      "\n"
     ]
    },
    {
     "name": "stderr",
     "output_type": "stream",
     "text": [
      "c:\\Users\\prath\\AppData\\Local\\Programs\\Python\\Python312\\Lib\\site-packages\\sklearn\\metrics\\_classification.py:1509: UndefinedMetricWarning: Precision is ill-defined and being set to 0.0 in labels with no predicted samples. Use `zero_division` parameter to control this behavior.\n",
      "  _warn_prf(average, modifier, f\"{metric.capitalize()} is\", len(result))\n",
      "c:\\Users\\prath\\AppData\\Local\\Programs\\Python\\Python312\\Lib\\site-packages\\sklearn\\metrics\\_classification.py:1509: UndefinedMetricWarning: Precision is ill-defined and being set to 0.0 in labels with no predicted samples. Use `zero_division` parameter to control this behavior.\n",
      "  _warn_prf(average, modifier, f\"{metric.capitalize()} is\", len(result))\n"
     ]
    }
   ],
   "source": [
    "from sklearn.linear_model import LogisticRegression\n",
    "from sklearn.metrics import accuracy_score, classification_report\n",
    "lr_model = LogisticRegression(random_state=42)\n",
    "lr_model.fit(x_train, y_train)\n",
    "lr_y_pred = lr_model.predict(x_test)\n",
    "print(\"Logistic Regression Accuracy:\", accuracy_score(y_test, lr_y_pred)*100)\n",
    "print(classification_report(y_test, lr_y_pred))"
   ]
  },
  {
   "cell_type": "code",
   "execution_count": 30,
   "metadata": {},
   "outputs": [
    {
     "name": "stdout",
     "output_type": "stream",
     "text": [
      "Random Forest Accuracy: 50.57418253931652\n"
     ]
    },
    {
     "name": "stderr",
     "output_type": "stream",
     "text": [
      "c:\\Users\\prath\\AppData\\Local\\Programs\\Python\\Python312\\Lib\\site-packages\\sklearn\\metrics\\_classification.py:1509: UndefinedMetricWarning: Precision is ill-defined and being set to 0.0 in labels with no predicted samples. Use `zero_division` parameter to control this behavior.\n",
      "  _warn_prf(average, modifier, f\"{metric.capitalize()} is\", len(result))\n"
     ]
    },
    {
     "name": "stdout",
     "output_type": "stream",
     "text": [
      "              precision    recall  f1-score   support\n",
      "\n",
      "      action       0.48      0.03      0.05       526\n",
      "       adult       0.68      0.08      0.15       228\n",
      "   adventure       0.59      0.14      0.23       304\n",
      "   animation       0.00      0.00      0.00       211\n",
      "   biography       0.00      0.00      0.00       103\n",
      "      comedy       0.52      0.33      0.40      2988\n",
      "       crime       1.00      0.01      0.02       223\n",
      " documentary       0.58      0.84      0.68      5185\n",
      "       drama       0.43      0.82      0.57      5550\n",
      "      family       0.69      0.03      0.06       288\n",
      "     fantasy       0.00      0.00      0.00       147\n",
      "   game-show       0.76      0.52      0.62        73\n",
      "     history       0.00      0.00      0.00       116\n",
      "      horror       0.61      0.25      0.36       883\n",
      "       music       0.70      0.29      0.41       300\n",
      "     musical       1.00      0.02      0.03       114\n",
      "     mystery       1.00      0.01      0.02       114\n",
      "        news       0.00      0.00      0.00        61\n",
      "  reality-tv       0.78      0.02      0.04       379\n",
      "     romance       1.00      0.01      0.02       267\n",
      "      sci-fi       0.35      0.06      0.10       240\n",
      "       short       0.51      0.15      0.24      1931\n",
      "       sport       0.60      0.13      0.21       162\n",
      "   talk-show       0.70      0.05      0.09       152\n",
      "    thriller       0.60      0.01      0.03       649\n",
      "         war       1.00      0.02      0.04        47\n",
      "     western       0.86      0.56      0.68       442\n",
      "\n",
      "    accuracy                           0.51     21683\n",
      "   macro avg       0.57      0.16      0.19     21683\n",
      "weighted avg       0.54      0.51      0.43     21683\n",
      "\n"
     ]
    },
    {
     "name": "stderr",
     "output_type": "stream",
     "text": [
      "c:\\Users\\prath\\AppData\\Local\\Programs\\Python\\Python312\\Lib\\site-packages\\sklearn\\metrics\\_classification.py:1509: UndefinedMetricWarning: Precision is ill-defined and being set to 0.0 in labels with no predicted samples. Use `zero_division` parameter to control this behavior.\n",
      "  _warn_prf(average, modifier, f\"{metric.capitalize()} is\", len(result))\n",
      "c:\\Users\\prath\\AppData\\Local\\Programs\\Python\\Python312\\Lib\\site-packages\\sklearn\\metrics\\_classification.py:1509: UndefinedMetricWarning: Precision is ill-defined and being set to 0.0 in labels with no predicted samples. Use `zero_division` parameter to control this behavior.\n",
      "  _warn_prf(average, modifier, f\"{metric.capitalize()} is\", len(result))\n"
     ]
    }
   ],
   "source": [
    "from sklearn.ensemble import RandomForestClassifier\n",
    "rf_model = RandomForestClassifier(random_state=42)\n",
    "rf_model.fit(x_train, y_train)\n",
    "rf_y_pred = rf_model.predict(x_test)\n",
    "print(\"Random Forest Accuracy:\", accuracy_score(y_test, rf_y_pred)*100)\n",
    "print(classification_report(y_test, rf_y_pred))"
   ]
  },
  {
   "cell_type": "code",
   "execution_count": 31,
   "metadata": {},
   "outputs": [
    {
     "name": "stdout",
     "output_type": "stream",
     "text": [
      "Gradient Boosting Accuracy: 50.68486833002813\n",
      "              precision    recall  f1-score   support\n",
      "\n",
      "      action       0.39      0.16      0.22       526\n",
      "       adult       0.44      0.25      0.32       228\n",
      "   adventure       0.39      0.16      0.23       304\n",
      "   animation       0.24      0.09      0.14       211\n",
      "   biography       0.00      0.00      0.00       103\n",
      "      comedy       0.58      0.34      0.43      2988\n",
      "       crime       0.19      0.08      0.11       223\n",
      " documentary       0.61      0.75      0.67      5185\n",
      "       drama       0.45      0.78      0.57      5550\n",
      "      family       0.19      0.08      0.11       288\n",
      "     fantasy       0.18      0.07      0.10       147\n",
      "   game-show       0.53      0.42      0.47        73\n",
      "     history       0.07      0.03      0.04       116\n",
      "      horror       0.64      0.41      0.50       883\n",
      "       music       0.52      0.36      0.43       300\n",
      "     musical       0.17      0.09      0.11       114\n",
      "     mystery       0.09      0.05      0.07       114\n",
      "        news       0.09      0.05      0.06        61\n",
      "  reality-tv       0.40      0.17      0.24       379\n",
      "     romance       0.13      0.04      0.06       267\n",
      "      sci-fi       0.36      0.22      0.27       240\n",
      "       short       0.50      0.20      0.28      1931\n",
      "       sport       0.35      0.22      0.27       162\n",
      "   talk-show       0.30      0.16      0.21       152\n",
      "    thriller       0.33      0.13      0.18       649\n",
      "         war       0.27      0.15      0.19        47\n",
      "     western       0.81      0.67      0.73       442\n",
      "\n",
      "    accuracy                           0.51     21683\n",
      "   macro avg       0.34      0.23      0.26     21683\n",
      "weighted avg       0.49      0.51      0.47     21683\n",
      "\n"
     ]
    }
   ],
   "source": [
    "from sklearn.ensemble import GradientBoostingClassifier\n",
    "gb_model = GradientBoostingClassifier(random_state=42)\n",
    "gb_model.fit(x_train, y_train)\n",
    "gb_y_pred = gb_model.predict(x_test)\n",
    "print(\"Gradient Boosting Accuracy:\", accuracy_score(y_test, gb_y_pred)*100)\n",
    "print(classification_report(y_test, gb_y_pred))"
   ]
  },
  {
   "cell_type": "code",
   "execution_count": 35,
   "metadata": {},
   "outputs": [
    {
     "data": {
      "image/png": "[encoded data removed]",
      "text/plain": [
       "<Figure size 1000x600 with 1 Axes>"
      ]
     },
     "metadata": {},
     "output_type": "display_data"
    }
   ],
   "source": [
    "models = ['Logistic Regression', 'Random Forest', 'Gradient Boosting']\n",
    "accuracy = [accuracy_score(y_test, lr_y_pred) * 100, accuracy_score(y_test, rf_y_pred) * 100, accuracy_score(y_test, gb_y_pred) * 100]\n",
    "\n",
    "plt.figure(figsize=(10, 6))\n",
    "plt.bar(models, accuracy, color=['Red', 'Green', 'blue'])\n",
    "plt.xlabel('Models')\n",
    "plt.ylabel('Accuracy (%)')\n",
    "plt.title('Churn Prediction Accuracy by Model')\n",
    "plt.ylim(0, 100)\n",
    "plt.show()"
   ]
  }
 ],
 "metadata": {
  "kernelspec": {
   "display_name": "Python 3",
   "language": "python",
   "name": "python3"
  },
  "language_info": {
   "codemirror_mode": {
    "name": "ipython",
    "version": 3
   },
   "file_extension": ".py",
   "mimetype": "text/x-python",
   "name": "python",
   "nbconvert_exporter": "python",
   "pygments_lexer": "ipython3",
   "version": "3.12.1"
  },
  "orig_nbformat": 4
 },
 "nbformat": 4,
 "nbformat_minor": 2
}
